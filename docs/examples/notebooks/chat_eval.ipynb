{
 "cells": [
  {
   "cell_type": "markdown",
   "id": "0157040f",
   "metadata": {},
   "source": [
    "# **Evaluating conversational agents with RAGElo**\n",
    "RAGElo also offers the functionality to evaluate the whole conversation between a user and an agent based on a set of given use cases and objectives.Similarly to simple QA evaluation, RAGElo can also compare **pairs** of conversations in an Elo-style tournament.\n",
    "\n",
    "To gather the user-bot conversations that will be used for evaluation, we can also simulate the user's behaviour with an LLM agent that tries to execute a given use case against the RAG conversational agent."
   ]
  },
  {
   "cell_type": "markdown",
   "id": "b2e5d43c-5c46-4955-8a93-a4f30ff6cd34",
   "metadata": {},
   "source": [
    "## 1. Import packages"
   ]
  },
  {
   "cell_type": "code",
   "execution_count": 1,
   "id": "b6a54813-ad03-480d-bf36-e280a456a53c",
   "metadata": {},
   "outputs": [
    {
     "name": "stderr",
     "output_type": "stream",
     "text": [
      "/Users/pzakkas/.pyenv/versions/3.8.12/envs/uni/lib/python3.8/site-packages/tqdm/auto.py:21: TqdmWarning: IProgress not found. Please update jupyter and ipywidgets. See https://ipywidgets.readthedocs.io/en/stable/user_install.html\n",
      "  from .autonotebook import tqdm as notebook_tqdm\n"
     ]
    }
   ],
   "source": [
    "from __future__ import annotations\n",
    "\n",
    "import os\n",
    "from getpass import getpass\n",
    "\n",
    "import openai\n",
    "\n",
    "from ragelo import (\n",
    "    get_agent_ranker,\n",
    "    get_answer_evaluator,\n",
    "    get_llm_provider,\n",
    "    get_retrieval_evaluator,\n",
    "    Query\n",
    ")"
   ]
  },
  {
   "cell_type": "markdown",
   "id": "28a38530-f6ef-41b2-930a-0cf3c83f0e2d",
   "metadata": {},
   "source": [
    "## 2. Setup openai key"
   ]
  },
  {
   "cell_type": "code",
   "execution_count": 2,
   "id": "755414cd-5b99-4cb6-89ac-e12aad257f33",
   "metadata": {},
   "outputs": [],
   "source": [
    "if not (openai_api_key := os.environ.get(\"OPENAI_API_KEY\")):\n",
    "    openai_api_key = getpass(\"🔑 Enter your OpenAI API key: \")\n",
    "openai.api_key = openai_api_key\n",
    "os.environ[\"OPENAI_API_KEY\"] = openai_api_key"
   ]
  },
  {
   "cell_type": "markdown",
   "id": "37f2a083-236a-4e50-800e-0c215e4c36f3",
   "metadata": {},
   "source": [
    "## 3.Set up a sample conversational Query"
   ]
  },
  {
   "cell_type": "code",
   "execution_count": 3,
   "id": "e0abde0e-e382-40ac-996d-c7fdfd874fe4",
   "metadata": {},
   "outputs": [],
   "source": [
    "queries: list[Query] = [\n",
    "    Query.parse_obj(\n",
    "        {\n",
    "            \"qid\": 0,\n",
    "            \"query\": (\n",
    "                \"I want to get familiar with neural search. \"\n",
    "                \"I want to start with the basics of what it means and how it works, \"\n",
    "                \"and eventually dive into what methods are used, which models, \"\n",
    "                \"and how to create a neural search system.\"\n",
    "            ),\n",
    "            \"retrieved_docs\": {\n",
    "                    \"doc_1\": {\n",
    "                        \"did\": \"doc_1\",\n",
    "                        \"text\": \"Neural search is a type of search that uses neural networks to improve the accuracy and relevance of search results.\",\n",
    "                    },\n",
    "                    \"doc_2\": {\n",
    "                        \"did\": \"doc_2\",\n",
    "                        \"text\": \"Keyword vs Neural Search: What's the Difference?\\n\\nKeyword search is the traditional method of searching for information on the web. It involves entering a query into a search engine and receiving a list of results that match the query. Neural search, on the other hand, uses neural networks to understand the meaning of the query and provide more relevant results.\",\n",
    "                },\n",
    "                    \"doc_3\": {\n",
    "                        \"did\": \"doc_3\",\n",
    "                        \"text\": \"The methods used in neural search include natural language processing (NLP), deep learning, and machine learning. These methods are used to understand the meaning of the query and provide more relevant results.\",\n",
    "                },\n",
    "                    \"doc_4\": {\n",
    "                        \"did\": \"doc_4\",\n",
    "                        \"text\": \"The embeddings are very important in neural search. They are used to represent the documents and queries in a high-dimensional space where similar documents and queries are close to each other.\",\n",
    "                },\n",
    "                    \"doc_5\": {\n",
    "                        \"did\": \"doc_5\",\n",
    "                        \"text\": \"To create a neural search system, you need to start by collecting a large amount of relevance data. This data will be used to train the neural network to understand the meaning of the queries and provide relevant results.\",\n",
    "                    },\n",
    "                    \"doc_6\": {\n",
    "                        \"did\": \"doc_6\",\n",
    "                        \"text\": \"Techniques to collect data for neural search training include the generation of synthetic data, data augmentation, and active learning.\",\n",
    "                },\n",
    "                    \"doc_7\": {\n",
    "                        \"did\": \"doc_7\",\n",
    "                        \"text\": \"Transformer models are commonly used as based models in neural search systems, including e5, mistral, Llama, and others.\",\n",
    "                },\n",
    "            },\n",
    "            \"pairwise_games\": [\n",
    "                {\n",
    "                    \"agent_a_answer\": {\n",
    "                        \"agent\": \"agent_a\",\n",
    "                        \"conversation\": [\n",
    "                            {\n",
    "                                \"sender\": \"user\",\n",
    "                                \"content\": \"I would like to get familiar with neural search\",\n",
    "                            },\n",
    "                            {\n",
    "                                \"sender\": \"agent_a\",\n",
    "                                \"content\": \"Sure! Neural search is a type of search that uses neural networks to improve the accuracy and relevance of search results[doc_1].\",\n",
    "                            },\n",
    "                            {\n",
    "                                \"sender\": \"user\",\n",
    "                                \"content\": \"How does it work?\",\n",
    "                            },\n",
    "                            {\n",
    "                                \"sender\": \"agent_a\",\n",
    "                                \"content\": \"It works by using neural models to get embeddings of the documents and queries in a high-dimensional space where similar documents and queries are close to each other[doc_4].\",\n",
    "                            },\n",
    "                            {\n",
    "                                \"sender\": \"user\",\n",
    "                                \"content\": \"I see, what methods are used in neural search?\",\n",
    "                            },\n",
    "                            {\n",
    "                                \"sender\": \"agent_a\",\n",
    "                                \"content\": \"The methods used in neural search include natural language processing (NLP), deep learning, and machine learning[doc_3].\",\n",
    "                            },\n",
    "                            {\n",
    "                                \"sender\": \"user\",\n",
    "                                \"content\": \"How can I create a neural search system?\",\n",
    "                            },\n",
    "                            {\n",
    "                                \"sender\": \"agent_a\",\n",
    "                                \"content\": \"To create a neural search system, you need to start by collecting a large amount of relevance data. This data will be used to train the neural network to understand the meaning of the queries and provide relevant results.\",\n",
    "                            },\n",
    "                            {\n",
    "                                \"sender\": \"user\",\n",
    "                                \"content\": \"What models are used in neural search?\",\n",
    "                            },\n",
    "                            {\n",
    "                                \"sender\": \"agent_a\",\n",
    "                                \"content\": \"Transformer models are commonly used as based models in neural search systems, including e5, mistral, Llama, and others[doc_7].\",\n",
    "                            },\n",
    "                        ]\n",
    "                    },\n",
    "                    \"agent_b_answer\": {\n",
    "                        \"agent\": \"agent_b\",\n",
    "                        \"conversation\": [\n",
    "                            {\n",
    "                                \"sender\": \"user\",\n",
    "                                \"content\": \"I would like to get familiar with neural search\",\n",
    "                            },\n",
    "                            {\n",
    "                                \"sender\": \"agent_b\",\n",
    "                                \"content\": \"Sure! What would you like to know about neural search?\",\n",
    "                            },\n",
    "                            {\n",
    "                                \"sender\": \"user\",\n",
    "                                \"content\": \"Let's start with the basics of what it means and how it works.\",\n",
    "                            },\n",
    "                            {\n",
    "                                \"sender\": \"agent_b\",\n",
    "                                \"content\": \"It is a type of search that uses neural networks to improve the accuracy and relevance of search results[doc_1]. Opposed to keyword search, neural search uses neural networks to understand the meaning of the query and provide more relevant results[doc_2]. In order to do this, it uses natural language processing (NLP), deep learning, and machine learning[doc_3]. Specifically, it works by getting embeddings of the documents and queries in a high-dimensional space where similar documents and queries are close to each other[doc_4].\",\n",
    "                            },\n",
    "                            {\n",
    "                                \"sender\": \"user\",\n",
    "                                \"content\": \"What kind of models are used in neural search?\",\n",
    "                            },\n",
    "                            {\n",
    "                                \"sender\": \"agent_b\",\n",
    "                                \"content\": \"Transformer models are commonly used as based models in neural search systems, including e5, mistral, Llama, and others[doc_7].\",\n",
    "                            },\n",
    "                        ]\n",
    "                    }\n",
    "                },\n",
    "            ]\n",
    "        }\n",
    "    )\n",
    "]\n"
   ]
  },
  {
   "cell_type": "markdown",
   "id": "e9f2f56a",
   "metadata": {},
   "source": [
    "## 4. Prepare the Evaluators\n",
    "RAGElo uses _evaluators_ as judges. We will instantiate a **retrieval evaluator**, the **chat evaluator** and an **agents ranker** with their corresponding settings"
   ]
  },
  {
   "cell_type": "code",
   "execution_count": 4,
   "id": "8f9aa7fb",
   "metadata": {},
   "outputs": [],
   "source": [
    "llm_provider = get_llm_provider(\"openai\", model_name=\"gpt-4o\", max_tokens=2048)\n",
    "\n",
    "kwargs = {\n",
    "    \"llm_provider\": llm_provider,\n",
    "    \"rich_print\": True,\n",
    "    \"has_citations\": True,\n",
    "    \"include_annotations\": True,\n",
    "    \"include_raw_documents\": True,\n",
    "    \"force\": True,\n",
    "}\n",
    "\n",
    "retrieval_evaluator = get_retrieval_evaluator(\n",
    "    \"reasoner\",\n",
    "    **kwargs,\n",
    ")\n",
    "\n",
    "chat_evaluator = get_answer_evaluator(\n",
    "    \"chat_pairwise\",\n",
    "    **kwargs,\n",
    "    factors=(\n",
    "        \"- The agent should provide clear and accurate answers with references to documents that support the answer.\\n\"\n",
    "        \"- The agent should be able to switch context according to the user needs and use new documents to respond to diverse user's requests.\"\n",
    "    ),\n",
    "    bidirectional=False,\n",
    "    n_games_per_query=20,\n",
    ")\n",
    "\n",
    "elo_ranker = get_agent_ranker(\n",
    "    \"elo\",\n",
    "    verbose=True,\n",
    "    k=32,\n",
    "    initial_score=1000,\n",
    "    rounds=1000,\n",
    "    **kwargs,\n",
    ")\n",
    "\n"
   ]
  },
  {
   "cell_type": "markdown",
   "id": "cc6b598d-dd9c-454a-b339-cbd3171b3d4d",
   "metadata": {},
   "source": [
    "## 5. Call the evaluators\n",
    "Now, we actually run the evaluators. \n",
    "\n",
    "Note that, as we go, we are adding information to each `Query` object, instead of just dumping everything into CSVs or JSON files. This is by design. The `Query` object is also a Pydantic model, so it can be easily serialized into JSON by calling `query.model_dump_json(<path>)` or pickled by calling `pickle.dumps(query)`.\n",
    "This also avoids re-evaluating the same document multiple times for the same query. The evaluator will also not re-evaluate a query (or answer) that was already evaluated, unless the `force` parameter is set to `True` on its configurations.\n",
    "\n",
    "As the focus of RAGElo is to evaluate the quality of RAG pipelines, the __retrieval__ component is extremely important, and the answers of the agents are evaluated based not only on the quality of the documents they have retrieved, but the quality of all the documents retrieved by any agent. The intuition here is that if there are many relevant documents in the corpus, potentially retrieved by other agents, the evaluation should take these into account, even if a specific agent did not retrieve them.\n",
    "\n",
    "When evaluating a (pair of) chat(s), the LLM will be able to see all the relevant documents retrieved by all agents, and will be able to compare the quality of the answers based on the quality of _all_ the relevant documents retrieved by any agent."
   ]
  },
  {
   "cell_type": "code",
   "execution_count": null,
   "id": "482ebe28",
   "metadata": {},
   "outputs": [],
   "source": [
    "queries = retrieval_evaluator.batch_evaluate(queries) \n",
    "\n",
    "queries = chat_evaluator.batch_evaluate(queries)"
   ]
  },
  {
   "cell_type": "code",
   "execution_count": 6,
   "id": "a0e13d1b",
   "metadata": {},
   "outputs": [
    {
     "name": "stdout",
     "output_type": "stream",
     "text": [
      "Relevance evaluation for doc1:\n",
      "Somewhat relevant: The document provides a basic definition of neural search but does not cover the methods, models, or how to create a neural search system as requested by the user.\n"
     ]
    }
   ],
   "source": [
    "print(f\"Relevance evaluation for doc1:\\n{queries[0].retrieved_docs['doc_1'].evaluation.raw_answer}\")"
   ]
  },
  {
   "cell_type": "code",
   "execution_count": 16,
   "id": "351cfb84",
   "metadata": {},
   "outputs": [
    {
     "name": "stdout",
     "output_type": "stream",
     "text": [
      "--------------------------------------------------------------------------------\n",
      "Pairwise game evaluation:\n",
      "**Evaluation of Assistant A:**\n",
      "\n",
      "1. **User Intent Satisfaction:**\n",
      "   - The assistant provides a basic definition of neural search in response to the user's request for the basics. It states that neural search uses neural networks to improve search results [doc_1].\n",
      "   - When asked how it works, Assistant A explains that it uses embeddings to represent documents and queries in a high-dimensional space [doc_4]. This is relevant to understanding how neural search operates.\n",
      "   - For methods used in neural search, it mentions natural language processing (NLP), deep learning, and machine learning [doc_3], which aligns with the user's intent to learn about methods.\n",
      "   - In response to how to create a neural search system, it mentions the need for relevance data to train the neural network, which is a relevant point but lacks depth [doc_5].\n",
      "   - Finally, it identifies transformer models as commonly used in neural search systems [doc_7].\n",
      "\n",
      "2. **Clarity and Accuracy:**\n",
      "   - The responses are clear and mostly accurate, providing a logical progression of information from basic definitions to methods and models.\n",
      "\n",
      "3. **Context Switching:**\n",
      "   - Assistant A effectively switches context based on the user's questions, providing relevant information in each response.\n",
      "\n",
      "**Overall Performance:**\n",
      "Assistant A provides a coherent and structured response to the user's inquiries about neural search, covering definitions, methods, and models. However, it could have provided more depth on how to create a neural search system.\n",
      "\n",
      "---\n",
      "\n",
      "**Evaluation of Assistant B:**\n",
      "\n",
      "1. **User Intent Satisfaction:**\n",
      "   - Assistant B starts by asking the user what they would like to know, which is a good approach to clarify user intent. However, it could have directly addressed the user's request for basics.\n",
      "   - It provides a definition of neural search and contrasts it with keyword search, which adds context [doc_1][doc_2]. This is beneficial for understanding the basics.\n",
      "   - The assistant explains how neural search works by discussing embeddings and the methods used (NLP, deep learning, and machine learning) in a single response [doc_3][doc_4]. This is a comprehensive answer that aligns well with the user's intent.\n",
      "   - When asked about models, it mentions transformer models, similar to Assistant A [doc_7].\n",
      "\n",
      "2. **Clarity and Accuracy:**\n",
      "   - The responses are clear and provide a good amount of detail, particularly in explaining how neural search works.\n",
      "\n",
      "3. **Context Switching:**\n",
      "   - Assistant B effectively switches context and builds on the user's questions, providing a more integrated response to the user's inquiries.\n",
      "\n",
      "**Overall Performance:**\n",
      "Assistant B provides a more comprehensive and integrated response to the user's questions about neural search. It effectively combines definitions, methods, and explanations of how neural search works in a single response, which enhances clarity and understanding.\n",
      "\n",
      "---\n",
      "\n",
      "**Comparison of the Two Assistants:**\n",
      "- Assistant A provides clear and structured responses but lacks some depth in explaining how to create a neural search system.\n",
      "- Assistant B offers a more integrated approach, combining definitions and explanations in a way that flows better and addresses the user's intent more thoroughly.\n",
      "\n",
      "**Final Verdict:**\n",
      "Based on the evaluations, Assistant B performs better overall due to its comprehensive and integrated responses that align closely with the user's intent. Therefore, the final verdict is: [[B]]\n",
      "--------------------------------------------------------------------------------\n",
      "Winner: B\n"
     ]
    }
   ],
   "source": [
    "print(\"-\"*80)\n",
    "print(f\"Pairwise game evaluation:\\n{queries[0].pairwise_games[0].evaluation.raw_answer}\")\n",
    "print(\"-\"*80)\n",
    "print(f\"Winner: {queries[0].pairwise_games[0].evaluation.answer}\")"
   ]
  },
  {
   "cell_type": "markdown",
   "id": "c81c16f0-fc6d-42f9-b817-2f7e7e721d28",
   "metadata": {},
   "source": [
    "## 6. Rank the agents\n",
    "Based on the results of the games played, we now run the Elo ranker to determine which agent wins the tournament.\n",
    "\n",
    "If we re-run the tournament multiple times, small variations may happen. Therefore, we re-run the tournament multiple times and average the results to get a more stable ranking. "
   ]
  },
  {
   "cell_type": "code",
   "execution_count": 9,
   "id": "fa3f0eb4",
   "metadata": {},
   "outputs": [
    {
     "data": {
      "text/html": [
       "<pre style=\"white-space:pre;overflow-x:auto;line-height:normal;font-family:Menlo,'DejaVu Sans Mono',consolas,'Courier New',monospace\">-------<span style=\"color: #c0c0c0; text-decoration-color: #c0c0c0; font-weight: bold\"> Agent Scores by elo </span>-------\n",
       "</pre>\n"
      ],
      "text/plain": [
       "-------\u001b[1;37m Agent Scores by elo \u001b[0m-------\n"
      ]
     },
     "metadata": {},
     "output_type": "display_data"
    },
    {
     "data": {
      "text/html": [
       "<pre style=\"white-space:pre;overflow-x:auto;line-height:normal;font-family:Menlo,'DejaVu Sans Mono',consolas,'Courier New',monospace\"><span style=\"color: #c0c0c0; text-decoration-color: #c0c0c0; font-weight: bold\">agent_b        </span>: <span style=\"color: #008080; text-decoration-color: #008080; font-weight: bold\">1016.0</span>\n",
       "</pre>\n"
      ],
      "text/plain": [
       "\u001b[1;37magent_b        \u001b[0m: \u001b[1;36m1016.0\u001b[0m\n"
      ]
     },
     "metadata": {},
     "output_type": "display_data"
    },
    {
     "data": {
      "text/html": [
       "<pre style=\"white-space:pre;overflow-x:auto;line-height:normal;font-family:Menlo,'DejaVu Sans Mono',consolas,'Courier New',monospace\"><span style=\"color: #c0c0c0; text-decoration-color: #c0c0c0; font-weight: bold\">agent_a        </span>: <span style=\"color: #008080; text-decoration-color: #008080; font-weight: bold\">983.0</span>\n",
       "</pre>\n"
      ],
      "text/plain": [
       "\u001b[1;37magent_a        \u001b[0m: \u001b[1;36m983.0\u001b[0m\n"
      ]
     },
     "metadata": {},
     "output_type": "display_data"
    }
   ],
   "source": [
    "elo_ranks = elo_ranker.run(queries)"
   ]
  },
  {
   "cell_type": "markdown",
   "id": "f2868fb4",
   "metadata": {},
   "source": []
  }
 ],
 "metadata": {
  "kernelspec": {
   "display_name": "Python 3 (ipykernel)",
   "language": "python",
   "name": "python3"
  },
  "language_info": {
   "codemirror_mode": {
    "name": "ipython",
    "version": 3
   },
   "file_extension": ".py",
   "mimetype": "text/x-python",
   "name": "python",
   "nbconvert_exporter": "python",
   "pygments_lexer": "ipython3",
   "version": "3.8.12"
  }
 },
 "nbformat": 4,
 "nbformat_minor": 5
}
